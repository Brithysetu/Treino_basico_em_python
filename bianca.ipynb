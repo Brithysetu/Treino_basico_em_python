{
  "nbformat": 4,
  "nbformat_minor": 0,
  "metadata": {
    "colab": {
      "provenance": [],
      "include_colab_link": true
    },
    "kernelspec": {
      "name": "python3",
      "display_name": "Python 3"
    },
    "language_info": {
      "name": "python"
    }
  },
  "cells": [
    {
      "cell_type": "markdown",
      "metadata": {
        "id": "view-in-github",
        "colab_type": "text"
      },
      "source": [
        "<a href=\"https://colab.research.google.com/github/Brithysetu/Treino_basico_em_python/blob/main/bianca.ipynb\" target=\"_parent\"><img src=\"https://colab.research.google.com/assets/colab-badge.svg\" alt=\"Open In Colab\"/></a>"
      ]
    },
    {
      "cell_type": "markdown",
      "source": [
        "# 1 - Variáveis e Tipos de Dados"
      ],
      "metadata": {
        "id": "uxGISqtR2yNT"
      }
    },
    {
      "cell_type": "code",
      "execution_count": null,
      "metadata": {
        "id": "tLS0FEGj2rS7",
        "outputId": "ce88f089-c906-4f53-eb3f-69cc3da088e7",
        "colab": {
          "base_uri": "https://localhost:8080/"
        }
      },
      "outputs": [
        {
          "output_type": "stream",
          "name": "stdout",
          "text": [
            "Meu nome é: Bianca Setubal, tipo: <class 'str'>\n",
            "Minha idade é: 25 anos, tipo: <class 'int'>\n",
            "Meu peso é: 68kgs , tipo: <class 'int'>\n",
            "Minha altura é: 1.67 metros, tipo: <class 'float'>\n",
            " Essas informações são plenamente verdadeiras e quem discordar,mentiu XD\n",
            "Meu novo peso é: 70kgs , tipo: <class 'int'>\n"
          ]
        }
      ],
      "source": [
        "'''\n",
        "1.1. Crie variáveis para armazenar o nome, idade, peso e altura de uma pessoa.\n",
        "Imprima os valores e os tipos de dados dessas variáveis.\n",
        "'''\n",
        "nome= \"Bianca Setubal\"\n",
        "idade= 25\n",
        "peso= 68\n",
        "altura= 1.67\n",
        "print(f\"Meu nome é: {nome}, tipo: {type(nome)}\")\n",
        "print(f\"Minha idade é: {idade} anos, tipo: {type(idade)}\")\n",
        "print(f\"Meu peso é: {peso}kgs , tipo: {type(peso)}\")\n",
        "print(f\"Minha altura é: {altura} metros, tipo: {type(altura)}\")\n",
        "print(f\" Essas informações são plenamente verdadeiras e quem discordar,mentiu XD\")\n",
        "peso = 70\n",
        "print(f\"Meu novo peso é: {peso}kgs , tipo: {type(peso)}\")"
      ]
    },
    {
      "cell_type": "code",
      "source": [
        "'''\n",
        "1.2. Atualize a variável de peso para um valor diferente e imprima o novo valor.\n",
        "'''\n",
        "\n",
        "peso = 70\n",
        "print(f\"Meu novo peso é: {peso}kgs , tipo: {type(peso)}\")"
      ],
      "metadata": {
        "id": "VFVgrodF27TT",
        "outputId": "e03145b1-0a19-4790-a5be-e07eb7e1faa4",
        "colab": {
          "base_uri": "https://localhost:8080/"
        }
      },
      "execution_count": null,
      "outputs": [
        {
          "output_type": "stream",
          "name": "stdout",
          "text": [
            "Meu novo peso é: 70kgs , tipo: <class 'int'>\n"
          ]
        }
      ]
    },
    {
      "cell_type": "markdown",
      "source": [
        "# 2 - Operadores Matemáticos"
      ],
      "metadata": {
        "id": "RRRbkSkr3Ajw"
      }
    },
    {
      "cell_type": "code",
      "source": [
        "'''\n",
        "2.1. Crie uma variável a com valor 10 e uma variável b com valor 3. Realize as\n",
        "seguintes operações e imprima os resultados:\n",
        "'''\n",
        "\n",
        "a=10\n",
        "b= 3\n",
        "\n",
        "#Soma\n",
        "soma = a + b\n",
        "print(soma)\n",
        "print(f\"A soma dos números {a} + {b} é: {soma}\")\n",
        "\n",
        "#Subtração\n",
        "subtração = a - b\n",
        "print(subtração)\n",
        "print(f\"A subtração dos números {a} - {b} é: {subtração}\")\n",
        "\n",
        "\n",
        "#Multiplicação\n",
        "Multiplicação = a * b\n",
        "print(Multiplicação)\n",
        "print(f\"A Multiplicação dos números {a} * {b} é: {Multiplicação}\")\n",
        "\n",
        "\n",
        "#Divisão\n",
        "Divisão = a / b\n",
        "print(Divisão)\n",
        "print(f\"A Divisão dos números {a} / {b} é: {Divisão}\")\n",
        "\n",
        "#Parte inteira da divisão\n",
        "parte_inteira = a // b\n",
        "print(f\"A parte inteira da divisão {a} // {b} é: {parte_inteira}\")\n",
        "\n",
        "# Resto da divisão\n",
        "resto = a % b\n",
        "print(f\"O resto da divisão {a} % {b} é: {resto}\")\n",
        "\n",
        "#Exponenciação\n",
        "exponenciacao = a ** b\n",
        "print(f\"{a} elevado a {b} é: {exponenciacao}\")\n"
      ],
      "metadata": {
        "id": "hHAztIDU3AJP",
        "colab": {
          "base_uri": "https://localhost:8080/"
        },
        "outputId": "dd7b3fa0-af53-493f-bec7-77a0af127f0c"
      },
      "execution_count": null,
      "outputs": [
        {
          "output_type": "stream",
          "name": "stdout",
          "text": [
            "13\n",
            "A soma dos números 10 + 3 é: 13\n",
            "7\n",
            "A subtração dos números 10 - 3 é: 7\n",
            "30\n",
            "A Multiplicação dos números 10 * 3 é: 30\n",
            "3.3333333333333335\n",
            "A Divisão dos números 10 / 3 é: 3.3333333333333335\n",
            "A parte inteira da divisão 10 // 3 é: 3\n",
            "O resto da divisão 10 % 3 é: 1\n",
            "10 elevado a 3 é: 1000\n"
          ]
        }
      ]
    },
    {
      "cell_type": "markdown",
      "source": [
        "# 3 - Entrada de Dados pelo Usuário\n"
      ],
      "metadata": {
        "id": "jWJt5Ep23OFd"
      }
    },
    {
      "cell_type": "code",
      "source": [
        "'''\n",
        "3.1. Peça ao usuário para digitar seu nome e armazene em uma variável. Imprima\n",
        "uma mensagem de boas-vindas usando o nome fornecido.\n",
        "'''\n",
        "nome= (input( \"Digite seu nome: \"))\n",
        "print(f\" Seja bem vindo(a): {nome} é um prazer te conhecer!!\")"
      ],
      "metadata": {
        "id": "IiD6jUJh3eiD",
        "colab": {
          "base_uri": "https://localhost:8080/"
        },
        "outputId": "b9671062-32e9-48e3-caea-dff07d0f24f9"
      },
      "execution_count": null,
      "outputs": [
        {
          "output_type": "stream",
          "name": "stdout",
          "text": [
            "Digite seu nome: Bianca\n",
            " Seja bem vindo(a): Bianca é um prazer te conhecer!!\n"
          ]
        }
      ]
    },
    {
      "cell_type": "code",
      "source": [
        "'''\n",
        "3.2. Peça ao usuário para digitar sua idade, peso e altura. Calcule o IMC e\n",
        "imprima o resultado arredondado para três casas decimais.\n",
        "'''\n",
        "Idade=int(input(\"Digite sua idade: \"))\n",
        "Peso= float(input(\" Digite seu peso: \"))\n",
        "Altura= float(input(\"Digite sua altura: \"))\n",
        "imc= Peso / (Altura **2)\n",
        "arredondado = round(imc, 3)\n",
        "print(arredondado)"
      ],
      "metadata": {
        "id": "Y4kz72aR3k8d",
        "colab": {
          "base_uri": "https://localhost:8080/"
        },
        "outputId": "83e87f7d-5f7a-45af-97b2-c1ea51bb9cc2"
      },
      "execution_count": null,
      "outputs": [
        {
          "output_type": "stream",
          "name": "stdout",
          "text": [
            "Digite sua idade: 28\n",
            " Digite seu peso: 68\n",
            "Digite sua altura: 1.64\n",
            "25.283\n"
          ]
        }
      ]
    },
    {
      "cell_type": "markdown",
      "source": [
        "# 4 - Função de Impressão"
      ],
      "metadata": {
        "id": "zqRV3Plv3pjL"
      }
    },
    {
      "cell_type": "code",
      "source": [
        "'''\n",
        "4.1. Peça ao usuário para digitar um número e imprima o número digitado.\n",
        "'''\n",
        "Numero=int(input(\"Digite um numero: \"))\n",
        "print(f\" Você digitou {Numero}\")"
      ],
      "metadata": {
        "id": "N5AbRV3i3vYV",
        "colab": {
          "base_uri": "https://localhost:8080/"
        },
        "outputId": "83896354-84d0-45a3-fbde-f14ec6468817"
      },
      "execution_count": null,
      "outputs": [
        {
          "output_type": "stream",
          "name": "stdout",
          "text": [
            "Digite um numero: 15\n",
            " Você digitou 15\n"
          ]
        }
      ]
    },
    {
      "cell_type": "code",
      "source": [
        "'''\n",
        "4.2. Peça ao usuário para digitar dois números e imprima a soma deles.\n",
        "'''\n",
        "N1=int(input(\"Digite um numero: \"))\n",
        "print(f\" Você digitou {N1}, digite mais um numero\")\n",
        "N2=int(input(\"Digite o numero 2: \"))\n",
        "print(f\" Você digitou {N2}\")\n",
        "soma= N1+N2\n",
        "print(f\" a soma de {N1} + {N2} é: {soma}\")"
      ],
      "metadata": {
        "id": "qM2ocOFl3vpB",
        "colab": {
          "base_uri": "https://localhost:8080/"
        },
        "outputId": "64f43174-3d3a-4241-949a-159f14bc2214"
      },
      "execution_count": null,
      "outputs": [
        {
          "output_type": "stream",
          "name": "stdout",
          "text": [
            "Digite um numero: 10\n",
            " Você digitou 10, digite mais um numero\n",
            "Digite o numero 2: 15\n",
            " Você digitou 15\n",
            " a soma de 10 + 15 é: 25\n"
          ]
        }
      ]
    },
    {
      "cell_type": "markdown",
      "source": [
        "# 5 - Métodos de Strings"
      ],
      "metadata": {
        "id": "RWwlLaOu35jq"
      }
    },
    {
      "cell_type": "code",
      "source": [
        "'''\n",
        "5.1. Peça ao usuário para digitar um e-mail e verifique se o e-mail contém o\n",
        "caractere '@'. Imprima uma mensagem indicando se é um e-mail válido ou não.\n",
        "'''\n",
        "email=(input(\"Adicione seu email: \"))\n",
        "if \"@\" in email:\n",
        "  print(\"Email Valido ✅\")\n",
        "else:\n",
        "  print(\"Email Invalido❌\")"
      ],
      "metadata": {
        "id": "PnAPaeXY3-dA",
        "colab": {
          "base_uri": "https://localhost:8080/"
        },
        "outputId": "327e6af5-9451-46f1-fd01-12669760afe6"
      },
      "execution_count": null,
      "outputs": [
        {
          "output_type": "stream",
          "name": "stdout",
          "text": [
            "Adicione seu email: bia.com\n",
            "Email Invalido❌\n"
          ]
        }
      ]
    },
    {
      "cell_type": "code",
      "source": [
        "'''\n",
        "5.2. Peça ao usuário para digitar uma frase e:\n",
        "Converta a frase para maiúsculas.\n",
        "Converta a frase para minúsculas.\n",
        "Converta a primeira letra de cada palavra para maiúscula.\n",
        "Verifique se a frase começa com uma determinada palavra (ex.: 'Olá').\n",
        "'''\n",
        "Frase=(input(\"Digite uma frase: \"))\n",
        "print(Frase_upper)\n",
        "print(Frase_lower)\n",
        "print(Frase.capitalize())\n",
        "print(Frase.title())\n",
        "\n",
        "# caixa alta\n",
        "Frase_upper = nome.upper()\n",
        "# caixa baixa\n",
        "Frase_lower = nome.lower()\n",
        "#primeira letra de cada palavra para maiúscula\n",
        "if Frase.find('Olá') :\n",
        "  print(\"Começa com olá ✅\")\n",
        "else:\n",
        "  print(\"Não começa com olá ❌\")\n",
        "\n"
      ],
      "metadata": {
        "id": "nkwe0I9c3-w-",
        "colab": {
          "base_uri": "https://localhost:8080/"
        },
        "outputId": "48c017fc-bcc2-4398-92d5-0d59ed621348"
      },
      "execution_count": null,
      "outputs": [
        {
          "output_type": "stream",
          "name": "stdout",
          "text": [
            "Digite uma frase: MeU NoMe É BiAnca\n",
            "BIANCA\n",
            "bianca\n",
            "Meu nome é bianca\n",
            "Meu Nome É Bianca\n",
            "Começa com olá ✅\n"
          ]
        }
      ]
    },
    {
      "cell_type": "markdown",
      "source": [
        "# 6 - Listas"
      ],
      "metadata": {
        "id": "HZQlB-8K4snX"
      }
    },
    {
      "cell_type": "code",
      "source": [
        "'''\n",
        "6.1. Crie uma lista com os nomes de cinco amigos. Imprima o nome do terceiro\n",
        "amigo na lista.\n",
        "\n",
        "'''\n",
        "\n",
        "amigos = [\"Bianca\", \"Marcos\", \"João\", \"Maria\", \"Aline\"]\n",
        "print(amigos[2])\n",
        "\n",
        "#a pessoa na posição 0 - 1 pessoa\n",
        "#a pessoa na posição 1 - 2 pessoa\n",
        "#a pessoa na posição 2 - 3 pessoa\n",
        "\n",
        "#6.2. Adicione um novo nome à lista de amigos e remova o primeiro nome.\n",
        "#Imprima a lista atualizada.\n",
        "\n",
        "amigos.append(\"Jullyana\")\n",
        "print(amigos)\n",
        "\n",
        "# Remova o primeiro nome da lista\n",
        "amigos.pop(0)\n",
        "\n",
        "# Imprima a lista atualizada\n",
        "print(\"Lista atualizada:\", amigos)\n",
        "\n",
        "\n",
        "#6.3. Crie uma lista com as idades dos seus amigos e:\n",
        "#Imprima a idade do amigo mais velho.\n",
        "#Imprima a idade do amigo mais novo.\n",
        "#Calcule e imprima a soma das idades.\n",
        "\n",
        "idades = [18, 35, 10, 65, 58]\n",
        "\n",
        "# Imprimir a idade do amigo mais velho\n",
        "idade_mais_velho = max(idades)\n",
        "print(f\"A idade do amigo mais velho é: {idade_mais_velho}\")\n",
        "\n",
        "# Imprimir a idade do amigo mais novo\n",
        "idade_mais_novo = min(idades)\n",
        "print(f\"A idade do mais novo é: {idade_mais_novo}\")\n",
        "\n",
        "# Calcular e imprimir a soma das idades\n",
        "soma_idades = sum(idades)\n",
        "print(f\"A soma das idades é: {soma_idades}\")\n",
        "\n"
      ],
      "metadata": {
        "id": "3_3JLvXZ4sBG",
        "colab": {
          "base_uri": "https://localhost:8080/"
        },
        "outputId": "88f81836-9dae-4d2a-c2a7-9fab2941509f"
      },
      "execution_count": null,
      "outputs": [
        {
          "output_type": "stream",
          "name": "stdout",
          "text": [
            "João\n",
            "['Bianca', 'Marcos', 'João', 'Maria', 'Aline', 'Jullyana']\n",
            "Lista atualizada: ['Marcos', 'João', 'Maria', 'Aline', 'Jullyana']\n",
            "A idade do amigo mais velho é: 65\n",
            "A idade do mais novo é: 10\n",
            "A soma das idades é: 186\n"
          ]
        }
      ]
    },
    {
      "cell_type": "markdown",
      "source": [
        "# 7 - Tuplas"
      ],
      "metadata": {
        "id": "9WTzsCNH4-tT"
      }
    },
    {
      "cell_type": "code",
      "source": [
        "\n",
        "#7.1 Crie uma tupla com as informações de um cliente (nome, idade, peso, altura).\n",
        "#Imprima todas as informações.\n",
        "\n",
        "cliente = (\"Jullyana\", 30, 75, 1.65)\n",
        "\n",
        "# Imprimindo todas as informações\n",
        "print(f\"Nome: {cliente[0]}\")\n",
        "print(f\"Idade: {cliente[1]} anos\")\n",
        "print(f\"Peso: {cliente[2]} kg\")\n",
        "print(f\"Altura: {cliente[3]} m\")\n",
        "\n",
        "#Crie uma nova tupla concatenando a tupla do exercício anterior com o e-mail\n",
        "#do cliente. Imprima a nova tupla.\n",
        "\n",
        "email = (\"juju_cg@python.com\",)\n",
        "Todas_infos = cliente + email\n",
        "print(f\"Dados da cliente:\", Todas_infos)"
      ],
      "metadata": {
        "id": "XpWW7G-p5BOJ",
        "colab": {
          "base_uri": "https://localhost:8080/"
        },
        "outputId": "0b3fde5a-2890-4374-a607-7df4b5c49102"
      },
      "execution_count": null,
      "outputs": [
        {
          "output_type": "stream",
          "name": "stdout",
          "text": [
            "Nome: Jullyana\n",
            "Idade: 30 anos\n",
            "Peso: 75 kg\n",
            "Altura: 1.65 m\n",
            "Dados da cliente: ('Jullyana', 30, 75, 1.65, 'juju_cg@python.com')\n"
          ]
        }
      ]
    },
    {
      "cell_type": "code",
      "source": [
        "'''\n",
        "7.2. Crie uma nova tupla concatenando a tupla do exercício anterior com o e-mail\n",
        "do cliente. Imprima a nova tupla.\n",
        "'''\n",
        "\n",
        "#Concatenando a tupla com o e-mail do cliente\n",
        "email = (\"joao@example.com\",)\n",
        "cliente_completo = cliente + email\n",
        "print(\"Informações completas do cliente:\", cliente_completo)"
      ],
      "metadata": {
        "id": "tIzWFwzc5GQ8",
        "colab": {
          "base_uri": "https://localhost:8080/"
        },
        "outputId": "139d8d2b-8ecc-4c6e-a18e-a672f162a28d"
      },
      "execution_count": null,
      "outputs": [
        {
          "output_type": "stream",
          "name": "stdout",
          "text": [
            "Informações completas do cliente: ('Jullyana', 30, 75, 1.65, 'joao@example.com')\n"
          ]
        }
      ]
    },
    {
      "cell_type": "markdown",
      "source": [
        "# 8 - Dicionários"
      ],
      "metadata": {
        "id": "-zg06dPu5ZJC"
      }
    },
    {
      "cell_type": "code",
      "source": [
        "'''\n",
        "8.1. Crie um dicionário com informações de um cliente\n",
        "(nome, idade, peso, altura). Imprima o valor associado à chave 'nome'.\n",
        "'''\n",
        "\n",
        "cliente = {\n",
        "    \"nome\": \"Bianca\",\n",
        "    \"idade\": 28,\n",
        "    \"peso\": 70,\n",
        "    \"altura\": 1.65\n",
        "}\n",
        "print(cliente)\n",
        "\n",
        "# Imprimindo o valor associado à chave 'nome'\n",
        "\n",
        "\n",
        "print(\"O nome no valor chave é:\", cliente[\"nome\"])\n",
        "#8.2. Adicione uma nova chave 'email' ao dicionário do exercício anterior e\n",
        "#imprima o dicionário atualizado\n",
        "\n",
        "\n",
        "# Adicionando a nova chave 'email'\n",
        "cliente ['email'] = 'Brithy@hotmail.com'\n",
        "print(cliente)\n",
        "\n",
        "#8.3. Remova a chave 'peso' do dicionário e verifique se a chave 'endereço' está\n",
        "#no dicionário. Imprima os resultados.\n",
        "\n",
        "\n",
        "cliente.pop(\"peso\")\n",
        "\n",
        "# Verificando se a chave 'endereço' está no dicionário\n",
        "V1_endereco = 'endereço' in cliente\n",
        "\n",
        "# Imprimindo os resultados\n",
        "print(\"Dicionário após remover a chave 'peso':\", cliente)\n",
        "print(\"A chave \"endereço\" está no dicionário?\", V1_endereco)"
      ],
      "metadata": {
        "id": "E_wd3pdX5clA",
        "colab": {
          "base_uri": "https://localhost:8080/"
        },
        "outputId": "4ae393bf-522c-4e75-fcd8-b03c0462dbc4"
      },
      "execution_count": null,
      "outputs": [
        {
          "output_type": "stream",
          "name": "stdout",
          "text": [
            "{'nome': 'Bianca', 'idade': 28, 'peso': 70, 'altura': 1.65}\n",
            "O nome no valor chave é: Bianca\n",
            "{'nome': 'Bianca', 'idade': 28, 'peso': 70, 'altura': 1.65, 'email': 'Brithy@hotmail.com'}\n",
            "Dicionário após remover a chave 'peso': {'nome': 'Bianca', 'idade': 28, 'altura': 1.65, 'email': 'Brithy@hotmail.com'}\n",
            "A chave 'endereço' está no dicionário? False\n"
          ]
        }
      ]
    },
    {
      "cell_type": "markdown",
      "source": [
        "# 9 - Controle de Fluxo"
      ],
      "metadata": {
        "id": "zDOsohbe5sjQ"
      }
    },
    {
      "cell_type": "code",
      "source": [
        "# Condicionais\n",
        "'''\n",
        "9.1. Peça ao usuário para digitar sua idade e verifique se ele é menor de idade,\n",
        " adulto ou idoso. Imprima uma mensagem correspondente.\n",
        "'''\n",
        "idade = int(input(\"Informe sua idade: \"))\n",
        "\n",
        "if idade >= 18:\n",
        "  print(f'Parabens, ja pode puxar cadeia. voce tem {idade} anos')\n",
        "else:\n",
        "  print('voce ainda e \" DE MENOR\"')"
      ],
      "metadata": {
        "id": "efFgv5Xx5wFC"
      },
      "execution_count": null,
      "outputs": []
    },
    {
      "cell_type": "code",
      "source": [
        "# Condicionais\n",
        "'''\n",
        "9.2. Peça ao usuário para digitar uma nota (0 a 100) e imprima se ele foi\n",
        "aprovado (nota >= 60) ou reprovado.\n",
        "'''\n",
        "nota = int(input(\"Digite sua nota de 0 a 100: \"))\n",
        "\n",
        "if nota >= 60:\n",
        "    print(\"Aprovado\")\n",
        "else:\n",
        "    print(\"Reprovado\")"
      ],
      "metadata": {
        "id": "pse5b4NO52OP"
      },
      "execution_count": null,
      "outputs": []
    },
    {
      "cell_type": "code",
      "source": [
        "# Loop For\n",
        "'''\n",
        "9.3. Crie uma lista com os nomes de cinco cidades. Use um loop for para imprimir\n",
        "cada nome de cidade.\n",
        "'''\n",
        "cidade = ['rio de janeiro', 'sao paulo', 'minas gerais', 'pernanbuco', 'fortaleza']\n",
        "\n",
        "for lugar in cidade:\n",
        "  print(lugar)"
      ],
      "metadata": {
        "id": "inMnGHFy525K"
      },
      "execution_count": null,
      "outputs": []
    },
    {
      "cell_type": "code",
      "source": [
        "# Loop For\n",
        "'''\n",
        "9.4. Crie uma lista com os números de 1 a 10. Use um loop for para imprimir o\n",
        "quadrado de cada número.\n",
        "'''\n",
        "quadrado_num = [1, 2, 3, 4, 5, 6, 7, 8, 9, 10]\n",
        "\n",
        "for valor in quadrado_num:\n",
        "  valor * 2\n",
        "\n",
        "  print(valor)"
      ],
      "metadata": {
        "id": "GitTfGfM539Y"
      },
      "execution_count": null,
      "outputs": []
    },
    {
      "cell_type": "code",
      "source": [],
      "metadata": {
        "id": "EnC3L1iYtZkR"
      },
      "execution_count": null,
      "outputs": []
    },
    {
      "cell_type": "markdown",
      "source": [
        "# 10 - Estudo de caso 01"
      ],
      "metadata": {
        "id": "_vJUEjo_6mWX"
      }
    },
    {
      "cell_type": "code",
      "source": [
        "'''\n",
        "Contexto:\n",
        "Uma empresa precisa registrar informações sobre seus clientes e calcular o IMC\n",
        "(Índice de Massa Corporal) de cada um deles. As informações devem ser\n",
        "armazenadas em um dicionário e exibidas ao final.\n",
        "'''\n",
        "\n",
        "\n",
        "'''\n",
        "Requisitos:\n",
        "Peça ao usuário para inserir os seguintes dados de um cliente:\n",
        "Nome\n",
        "Idade\n",
        "Peso (em kg)\n",
        "Altura (em metros)\n",
        "E-mail\n",
        "Armazene essas informações em um dicionário.\n",
        "Calcule o IMC do cliente (IMC = Peso / (Altura * Altura)) e adicione esse valor ao dicionário.\n",
        "Exiba todas as informações do cliente, incluindo o IMC arredondado para duas casas decimais.\n",
        "\n",
        "'''\n",
        "\n",
        "nome = input(\"Digite seu nome: \")\n",
        "idade = int(input(\"Digite sua idade: \"))\n",
        "peso = float(input(\"Digite seu peso (em kg): \"))\n",
        "altura = float(input(\"Digite sua altura (em metros): \"))\n",
        "email = input(\"Digite seu e-mail: \")\n",
        "\n",
        "usuario = {\n",
        "    \"nome\": nome,\n",
        "    \"idade\": idade,\n",
        "    \"peso\": peso,\n",
        "    \"altura\": altura,\n",
        "    \"email\": email\n",
        "}\n",
        "\n",
        "imc = peso / (altura * altura)\n",
        "print(imc)\n",
        "\n",
        "\n",
        "usuario[\"imc\"] = round(imc, 2)\n",
        "\n",
        "print(usuario)"
      ],
      "metadata": {
        "id": "llIsNhsG6l_z",
        "colab": {
          "base_uri": "https://localhost:8080/"
        },
        "outputId": "0ee5bb7f-a8d1-4fa6-b4e6-1f59eb73214e"
      },
      "execution_count": null,
      "outputs": [
        {
          "output_type": "stream",
          "name": "stdout",
          "text": [
            "Digite seu nome: bia\n",
            "Digite sua idade: 30\n",
            "Digite seu peso (em kg): 86\n",
            "Digite sua altura (em metros): 1.65\n",
            "Digite seu e-mail: bia@hotmail.com\n",
            "31.58861340679523\n",
            "{'nome': 'bia', 'idade': 30, 'peso': 86.0, 'altura': 1.65, 'email': 'bia@hotmail.com', 'imc': 31.59}\n"
          ]
        }
      ]
    },
    {
      "cell_type": "markdown",
      "source": [
        "# 11 - Estudo de Caso 02"
      ],
      "metadata": {
        "id": "_Yi8lRKQ68B3"
      }
    },
    {
      "cell_type": "code",
      "source": [
        "'''\n",
        "Contexto:\n",
        "Uma escola precisa analisar as notas de seus alunos e determinar se cada aluno\n",
        "foi aprovado ou reprovado. As notas serão armazenadas em uma lista e a análise\n",
        "deve ser realizada em um loop.\n",
        "'''\n",
        "nomes = []\n",
        "notas = []\n",
        "'''\n",
        "Requisitos:\n",
        "Peça ao usuário para inserir o nome e a nota de cinco alunos.\n",
        "Armazene os nomes e as notas em listas separadas.'''\n",
        "\n",
        "for i in range(5):\n",
        "    nome = input(f\"Digite o nome do aluno : \")\n",
        "    nota = float(input(f\"Digite a nota do aluno : \"))\n",
        "    nomes.append(nome)\n",
        "    notas.append(nota)\n",
        "\n",
        "'''\n",
        "Atencao, como sao listas separadas, considere que as posicoes de alunos\n",
        "e notas sao as mesmas.\n",
        "\n",
        "  Ex: notas = [10 , 9]\n",
        "     alunos = ['A','B']\n",
        "      posicoes  0   1\n",
        "\n",
        "  Aluno A nota 10\n",
        "  Aluno B nota 9\n",
        "'''\n",
        "\n",
        "\n",
        "'''\n",
        "Para cada aluno, verifique se a nota é maior ou igual a 60. Se sim, o aluno está\n",
        "aprovado; caso contrário, está reprovado.\n",
        "Exiba uma mensagem para cada aluno informando seu nome, nota e se foi aprovado\n",
        "ou reprovado.\n",
        "'''\n",
        "# Verifica se cada aluno foi aprovado ou reprovado\n",
        "for i in range(5):\n",
        "    if notas[i] >= 60:\n",
        "        Resultado = \"aprovado\"\n",
        "    else:\n",
        "        Resultado = \"reprovado\"\n",
        "    print(f\"Aluno {nomes[i]} com nota {notas[i]} está {Resultado}.\")"
      ],
      "metadata": {
        "id": "mrqCtmjg6_It",
        "colab": {
          "base_uri": "https://localhost:8080/"
        },
        "outputId": "1e8048ca-c200-4ed0-bc3f-98f176f2f945"
      },
      "execution_count": null,
      "outputs": [
        {
          "output_type": "stream",
          "name": "stdout",
          "text": [
            "Digite o nome do aluno : bianca\n",
            "Digite a nota do aluno : 60\n",
            "Digite o nome do aluno : bob\n",
            "Digite a nota do aluno : 65\n",
            "Digite o nome do aluno : ju\n",
            "Digite a nota do aluno : 35\n",
            "Digite o nome do aluno : joao\n",
            "Digite a nota do aluno : 90\n",
            "Digite o nome do aluno : maria\n",
            "Digite a nota do aluno : 80\n",
            "Aluno bianca com nota 60.0 está aprovado.\n",
            "Aluno bob com nota 65.0 está aprovado.\n",
            "Aluno ju com nota 35.0 está reprovado.\n",
            "Aluno joao com nota 90.0 está aprovado.\n",
            "Aluno maria com nota 80.0 está aprovado.\n"
          ]
        }
      ]
    },
    {
      "cell_type": "markdown",
      "source": [
        "# 12 - Estudo de caso 03"
      ],
      "metadata": {
        "id": "DoDAFqG37QWG"
      }
    },
    {
      "cell_type": "code",
      "source": [
        "'''\n",
        "Contexto\n",
        "Uma empresa deseja realizar uma pesquisa de opinião com cinco participantes\n",
        "sobre um novo produto. As respostas devem ser armazenadas e analisadas para\n",
        "verificar a satisfação dos clientes.\n",
        "\n",
        "Requisitos\n",
        "Peça ao usuário para inserir o nome e a opinião (satisfeito/insatisfeito) de\n",
        "cinco participantes.\n",
        "Armazene os nomes e as opiniões em um dicionário. Mesma lógica da questão anterior.\n",
        "'''\n",
        "\n",
        "nomes= []\n",
        "opinioes=[]\n",
        "\n",
        "for i in range(5):\n",
        "    nome = input(f\"Digite seu nome {i+1}:  \")\n",
        "    opiniao = (input(f\" Digite satisfeito/insatisfeito {i+1}:  \"))\n",
        "    nomes.append(nome)\n",
        "    opinioes.append(opiniao)\n",
        "\n",
        "\n",
        "\n",
        "\n",
        "'''\n",
        "Conte o número de participantes satisfeitos e insatisfeitos.\n",
        "Exiba a lista de participantes satisfeitos e insatisfeitos, bem como o número\n",
        "total de cada categoria.\n",
        "'''\n",
        "qtde_s = opinioes.count('satisfeito')\n",
        "qtde_i = opinioes.count('insatisfeito')\n",
        "print(\"-\" * 30)\n",
        "print(f\"Temos {qtde_s} Pessoa(s) Satisfeita(s) e temos {qtde_i} Pessoa(s) Insatisfeita(s)\")"
      ],
      "metadata": {
        "id": "34JqxL0B7Tvj",
        "colab": {
          "base_uri": "https://localhost:8080/"
        },
        "outputId": "b9abce90-0500-453d-9a87-bf52edbd6764"
      },
      "execution_count": null,
      "outputs": [
        {
          "output_type": "stream",
          "name": "stdout",
          "text": [
            "Digite seu nome 1:  bianca\n",
            " Digite satisfeito/insatisfeito 1:  satisfeito\n",
            "Digite seu nome 2:  joao\n",
            " Digite satisfeito/insatisfeito 2:  satisfeito\n",
            "Digite seu nome 3:  maria\n",
            " Digite satisfeito/insatisfeito 3:  satisfeito\n",
            "Digite seu nome 4:  filipe\n",
            " Digite satisfeito/insatisfeito 4:  satisfeito\n",
            "Digite seu nome 5:  rodrigo\n",
            " Digite satisfeito/insatisfeito 5:  insatisfeito\n",
            "------------------------------\n",
            "Temos 4 Pessoa(s) Satisfeita(s) e temos 1 Pessoa(s) Insatisfeita(s)\n"
          ]
        }
      ]
    },
    {
      "cell_type": "code",
      "source": [
        "i"
      ],
      "metadata": {
        "id": "Ps2GObvfud-t"
      },
      "execution_count": null,
      "outputs": []
    },
    {
      "cell_type": "markdown",
      "source": [
        "# 13 - Funcões"
      ],
      "metadata": {
        "id": "bjjiIDp3igK2"
      }
    },
    {
      "cell_type": "code",
      "source": [
        "'''\n",
        "Escreva um função que receba um número inteiro e imprima o mês\n",
        "correspondente ao número. Por exemplo, 2 corresponde à “fevereiro”. A função\n",
        "deve mostrar uma mensagem de erro caso o número recebido não faça sentido. Gere\n",
        "também um algoritmo que leia um valor e chame a função criada.\n",
        "'''\n",
        "\n",
        "\n",
        "def mes(numero):\n",
        "    meses = [\n",
        "        \"Janeiro\", \"Fevereiro\", \"Março\", \"Abril\", \"Maio\", \"Junho\",\n",
        "        \"Julho\", \"Agosto\", \"Setembro\", \"Outubro\", \"Novembro\", \"Dezembro\"\n",
        "    ]\n",
        "\n",
        "    if 1 <= numero <= 12:\n",
        "        print(meses[numero - 1])\n",
        "    else:\n",
        "        print(\"Número inválido. Por favor, insira um número entre 1 e 12.\")\n",
        "\n",
        "\n",
        "numero = int(input(\"Digite um número inteiro de 1 a 12: \"))\n",
        "mes(numero)\n"
      ],
      "metadata": {
        "id": "VtWzq_yIilij",
        "colab": {
          "base_uri": "https://localhost:8080/"
        },
        "outputId": "19ced09c-e886-4c6d-f664-b0cd9f5ff3e2"
      },
      "execution_count": null,
      "outputs": [
        {
          "output_type": "stream",
          "name": "stdout",
          "text": [
            "Digite um número inteiro de 1 a 12: 11\n",
            "Novembro\n"
          ]
        }
      ]
    },
    {
      "cell_type": "code",
      "source": [
        "'''\n",
        "Escreva uma função que receba um número inteiro e retorne sua forma\n",
        "por extenso. A função deve ser capaz de gerar o extenso dos números\n",
        "de 0 a 10, inclusive. Caso o número recebido esteja fora desse\n",
        "intervalo, a função deve retornar uma mensagem de erro. Além disso,\n",
        "crie um algoritmo que leia um valor inteiro e utilize a função criada\n",
        "para exibir o número por extenso.\n",
        "'''\n",
        "\n",
        "def Numero_por_extenso(numero):\n",
        "    Extenso = [\n",
        "        \"Um\", \"Dois\", \"Três\", \"Quatro\", \"cinco\", \"Seis\",\n",
        "        \"Sete\", \"Oito\", \"Nove\", \"Dez\"\n",
        "    ]\n",
        "\n",
        "    if 0 <= numero <= 10:\n",
        "        print(Extenso[numero - 1])\n",
        "    else:\n",
        "        print(\"Número inválido. Por favor, insira um número entre 1 e 10.\")\n",
        "\n",
        "# Exemplo de uso\n",
        "numero = int(input(\"Digite um número inteiro de 1 a 10: \"))\n",
        "Numero_por_extenso(numero)\n"
      ],
      "metadata": {
        "id": "-JRhojy1i3Uz",
        "colab": {
          "base_uri": "https://localhost:8080/"
        },
        "outputId": "ffc48310-1354-402b-a685-af0fdce4b09d"
      },
      "execution_count": null,
      "outputs": [
        {
          "output_type": "stream",
          "name": "stdout",
          "text": [
            "Digite um número inteiro de 1 a 10: 9\n",
            "Nove\n"
          ]
        }
      ]
    },
    {
      "cell_type": "code",
      "source": [
        "\n",
        "'''\n",
        "Escreva uma função que receba dois números inteiros x e y. Essa\n",
        "função deve verificar se x é divisível por y.\n",
        "Escreva também um algoritmo para testar tal função.\n",
        "'''\n",
        "num_x = int(input(\"Digite numero x: \"))\n",
        "num_y = int(input(\"Digite numero y:  \"))\n",
        "\n",
        "def X_DIV_Y(x,y):\n",
        "  if num_x % num_y == 0:\n",
        "    return 1\n",
        "  else:\n",
        "    return 0\n",
        "\n",
        "# Exemplo de uso\n",
        "\n",
        "print(X_DIV_Y(num_x,num_y))\n"
      ],
      "metadata": {
        "id": "LtUbCVkqjjEj",
        "colab": {
          "base_uri": "https://localhost:8080/"
        },
        "outputId": "4afeeded-cb3c-4f60-96a5-b210177da2cc"
      },
      "execution_count": null,
      "outputs": [
        {
          "output_type": "stream",
          "name": "stdout",
          "text": [
            "Digite numero x: 4\n",
            "Digite numero y:  2\n",
            "1\n"
          ]
        }
      ]
    },
    {
      "cell_type": "markdown",
      "source": [
        "# Outras Questões"
      ],
      "metadata": {
        "id": "wjSAypy6nEbs"
      }
    },
    {
      "cell_type": "code",
      "source": [
        "'''\n",
        "Tamanho de strings.\n",
        "Faça um programa que leia 2 strings e informe o conteúdo delas seguido do seu comprimento.\n",
        "Informe também se as duas strings possuem o mesmo comprimento e são iguais ou diferentes no conteúdo.\n",
        "'''\n",
        "St1=(input(\"Digite sua palavra n1: \"))\n",
        "St2=(input(\"Digite sua palavra n2: \"))\n",
        "print(\"-\" * 30)\n",
        "print(f\" Você digitou {St1} & {St2}\")\n",
        "print(\"-\" * 30)\n",
        "qtde_p1 = len(St1)\n",
        "qtde_p2 = len(St2)\n",
        "\n",
        "\n",
        "#----------------------------------\n",
        "def compara_strings(St1, St2):\n",
        "  print(f\"A primeira string digitada foi: {St1}; que possui {len(St1)} caracteres\")\n",
        "  print(f\"A segunda string digitada foi: {St2}; que possui {len(St2)} caracteres.\")\n",
        "if len(St1) == len(St2):\n",
        "  print(\"As duas strings são de tamanhos iguais.\")\n",
        "else:\n",
        "  print(\"As duas strings são de tamanhos diferentes.\")\n",
        "\n",
        "\n",
        "if St1 == St2:\n",
        "      print(\"As duas strings possuem conteúdo igual.\")\n",
        "else:\n",
        "  print(f\"As duas strings possuem conteúdo diferente.\")\n",
        "\n",
        "\n",
        "compara_strings(St1, St2)\n",
        "\n"
      ],
      "metadata": {
        "id": "aYGb_hXDnGwP",
        "colab": {
          "base_uri": "https://localhost:8080/"
        },
        "outputId": "3a3b36d1-b546-4745-dc9d-c59d159c3730"
      },
      "execution_count": null,
      "outputs": [
        {
          "output_type": "stream",
          "name": "stdout",
          "text": [
            "Digite sua palavra n1: Bonita\n",
            "Digite sua palavra n2: Bonita\n",
            "------------------------------\n",
            " Você digitou Bonita & Bonita\n",
            "------------------------------\n",
            "As duas strings são de tamanhos iguais.\n",
            "As duas strings possuem conteúdo igual.\n",
            "A primeira string digitada foi: Bonita; que possui 6 caracteres\n",
            "A segunda string digitada foi: Bonita; que possui 6 caracteres.\n"
          ]
        }
      ]
    },
    {
      "cell_type": "code",
      "source": [
        "'''\n",
        "Valida e corrige número de telefone. Faça um programa que leia um número de telefone,\n",
        "e corrija o número no caso deste conter somente 7 dígitos, acrescentando o '3' na frente.\n",
        "O usuário pode informar o número com ou sem o traço separador.\n",
        "\n",
        "Valida e corrige número de telefone\n",
        "Telefone: 461-0133\n",
        "Telefone possui 7 dígitos. Vou acrescentar o digito três na frente.\n",
        "Telefone corrigido sem formatação: 34610133\n",
        "Telefone corrigido com formatação: 3461-0133\n",
        "'''\n",
        "\n",
        "\n",
        "\n",
        "telefone= input(\"Digite um telefone: \")\n",
        "telefone_sem_hifen = telefone.replace(\"-\", \"\")\n",
        "tamanho = len(telefone_sem_hifen)\n",
        "\n",
        "#------------\n",
        "if tamanho == 7:\n",
        "    telefone_corrigido = \"3\" + telefone_sem_hifen\n",
        "    print(f\"Telefone corrigido sem formatação: {telefone_corrigido}\")\n",
        "    print(f\"Telefone corrigido com formatação: {telefone_corrigido[:4]}-{telefone_corrigido[4:]}\")\n",
        "elif tamanho == 8:\n",
        "    print(\"Telefone já está no formato correto.\")\n",
        "else:\n",
        "    print(\"Telefone inválido.\")\n",
        "\n",
        "\n"
      ],
      "metadata": {
        "id": "K32OQWTwnjOu",
        "colab": {
          "base_uri": "https://localhost:8080/"
        },
        "outputId": "258c17bf-e156-4f1b-ac29-146080b4e741"
      },
      "execution_count": null,
      "outputs": [
        {
          "output_type": "stream",
          "name": "stdout",
          "text": [
            "Digite um telefone: 1234567\n",
            "Telefone corrigido sem formatação: 31234567\n",
            "Telefone corrigido com formatação: 3123-4567\n"
          ]
        }
      ]
    },
    {
      "cell_type": "code",
      "source": [],
      "metadata": {
        "id": "mac8HSMhV1f3"
      },
      "execution_count": null,
      "outputs": []
    },
    {
      "cell_type": "markdown",
      "source": [],
      "metadata": {
        "id": "zwHVNXbQV1Qs"
      }
    },
    {
      "cell_type": "code",
      "source": [
        "'''\n",
        "Data por extenso. Faça um programa que solicite a data de nascimento (dd/mm/aaaa) do usuário e imprima a data com o nome do mês por extenso.\n",
        "\n",
        "Data de Nascimento: 29/10/1973\n",
        "Você nasceu em  29 de Outubro de 1973.\n",
        "'''\n",
        "\n",
        "meses = [\"janeiro\", \"fevereiro\", \"março\", \"abril\", \"maio\", \"junho\",\n",
        "         \"julho\", \"agosto\", \"setembro\", \"outubro\", \"novembro\", \"dezembro\"]\n",
        "\n",
        "# Solicita a data de nascimento do usuário\n",
        "data = input(\"Informe a data de nascimento (dd/mm/aaaa): \")\n",
        "\n",
        "dia, mes, ano = data.split('/')\n",
        "\n",
        "mes_extenso = meses[int(mes) - 1]\n",
        "\n",
        "print(f\"{dia} de {mes_extenso} de {ano}\")\n"
      ],
      "metadata": {
        "id": "8bxDp8HbnxOl",
        "colab": {
          "base_uri": "https://localhost:8080/"
        },
        "outputId": "101bfcaf-9395-44f7-cf31-b611c936bd57"
      },
      "execution_count": null,
      "outputs": [
        {
          "output_type": "stream",
          "name": "stdout",
          "text": [
            "Informe a data de nascimento (dd/mm/aaaa): 20/05/1996\n",
            "20 de maio de 1996\n"
          ]
        }
      ]
    },
    {
      "cell_type": "code",
      "source": [
        "'''\n",
        "Faça um programa que converta da notação de 24 horas para a notação de 12 horas.\n",
        "Por exemplo, o programa deve converter 14:25 em 2:25 P.M. A entrada é dada em dois inteiros (hora e minuto).\n",
        "CEsse código\n",
        "'''\n",
        "\n",
        "def converter_formato_hora(hora_24, minuto):\n",
        "  if hora_24 < 0 or hora_24 > 23 or minuto < 0 or minuto > 59:\n",
        "    return \"Hora inválida\"\n",
        "    if hora_24 == 0:\n",
        "      periodo = \"A.M.\"\n",
        "      hora_12 = 12\n",
        "    elif hora_24 == 12:\n",
        "      periodo = \"P.M.\"\n",
        "      hora_12 = 12\n",
        "    elif hora_24 > 12:\n",
        "      periodo = \"P.M.\"\n",
        "      hora_12 = hora_24 - 12\n",
        "  else:\n",
        "    periodo = \"A.M.\"\n",
        "    hora_12 = hora_24\n",
        "  return f\"{hora_12}:{minuto:02d} {periodo}\"\n",
        "\n",
        "entrada = input(\"Digite a hora no formato 24 horas (HH:MM): \")\n",
        "hora_24, minuto = map(int, entrada.split(':'))\n",
        "hora_12 = converter_formato_hora(hora_24, minuto)\n",
        "print(hora_12)\n"
      ],
      "metadata": {
        "id": "g6CYeu8kosNJ",
        "colab": {
          "base_uri": "https://localhost:8080/"
        },
        "outputId": "d52b9cfd-0e18-44b2-93a7-a1828b968066"
      },
      "execution_count": null,
      "outputs": [
        {
          "output_type": "stream",
          "name": "stdout",
          "text": [
            "Digite a hora no formato 24 horas (HH:MM): 14:25\n",
            "14:25 A.M.\n"
          ]
        }
      ]
    },
    {
      "cell_type": "code",
      "source": [
        "''''\n",
        "Usando white, valide cada informação\n",
        "Faça um programa que leia e valide as seguintes informações:\n",
        "Nome: maior que 3 caracteres;\n",
        "Idade: entre 0 e 150;\n",
        "Salário: maior que zero;\n",
        "Estado Civil: 's', 'c', 'v', 'd';\n",
        "'''\n",
        "\n",
        "def dados_cadastrais():\n",
        "    nome = input(\"Digite seu Nome: \")\n",
        "    while len(nome) <= 3:\n",
        "        print(\"Nome deve ter mais de 3 caracteres.\")\n",
        "        nome = input(\"Digite um nome válido: \")\n",
        "\n",
        "    idade = int(input(\"Digite sua Idade: \"))\n",
        "    while idade < 0 or idade > 150:\n",
        "        print(\"Idade deve estar entre 0 e 150 anos.\")\n",
        "        idade = int(input(\"Digite uma idade válida: \"))\n",
        "\n",
        "    salario = float(input(\"Digite seu Salário: \"))\n",
        "    while salario <= 0:\n",
        "        print(\"Salário deve ser maior que zero.\")\n",
        "        salario = float(input(\"Digite um salário válido: \"))\n",
        "\n",
        "    estado_civil = input(\"Digite seu Estado Civil, considerando 's' (solteiro), 'c' (casado), 'v' (viúvo), 'd' (divorciado): \").lower()\n",
        "    while estado_civil not in ['s', 'c', 'v', 'd']:\n",
        "        print(\"Estado Civil deve ser 's' (solteiro), 'c' (casado), 'v' (viúvo), 'd' (divorciado).\")\n",
        "        estado_civil = input(\"Digite um estado civil válido: \").lower()\n",
        "\n",
        "    print(\"\\nInformações Validadas:\")\n",
        "    print(f\"Nome: {nome}\")\n",
        "    print(f\"Idade: {idade}\")\n",
        "    print(f\"Salário: {salario}\")\n",
        "    print(f\"Estado Civil: {estado_civil}\")\n",
        "\n",
        "\n",
        "if __name__ == \"__main__\":\n",
        "    dados_cadastrais()"
      ],
      "metadata": {
        "id": "I-h94Ld2pZdn",
        "colab": {
          "base_uri": "https://localhost:8080/"
        },
        "outputId": "9c3daf65-e84a-42b0-a73e-85552181927b"
      },
      "execution_count": null,
      "outputs": [
        {
          "output_type": "stream",
          "name": "stdout",
          "text": [
            "Digite seu Nome: bianca\n",
            "Digite sua Idade: 28\n",
            "Digite seu Salário: 2.300\n",
            "Digite seu Estado Civil, considerando 's' (solteiro), 'c' (casado), 'v' (viúvo), 'd' (divorciado): s\n",
            "\n",
            "Informações Validadas:\n",
            "Nome: bianca\n",
            "Idade: 28\n",
            "Salário: 2.3\n",
            "Estado Civil: s\n"
          ]
        }
      ]
    }
  ]
}